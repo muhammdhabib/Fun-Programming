{
  "nbformat": 4,
  "nbformat_minor": 0,
  "metadata": {
    "colab": {
      "provenance": [],
      "authorship_tag": "ABX9TyNsPYBoH5Gz79FbF/lklxHJ",
      "include_colab_link": true
    },
    "kernelspec": {
      "name": "python3",
      "display_name": "Python 3"
    },
    "language_info": {
      "name": "python"
    }
  },
  "cells": [
    {
      "cell_type": "markdown",
      "metadata": {
        "id": "view-in-github",
        "colab_type": "text"
      },
      "source": [
        "<a href=\"https://colab.research.google.com/github/muhammdhabib/Fun-Programming/blob/main/Latihan_Modul2.ipynb\" target=\"_parent\"><img src=\"https://colab.research.google.com/assets/colab-badge.svg\" alt=\"Open In Colab\"/></a>"
      ]
    },
    {
      "cell_type": "code",
      "execution_count": 12,
      "metadata": {
        "id": "wDU87Yzn70ry"
      },
      "outputs": [],
      "source": [
        "# TODO 1: Buatlah Fungsi add_expense\n",
        "def add_expense(expenses, date, description, amount):\n",
        "    new_expense = {'tanggal': date, 'deskripsi': description, 'jumlah': amount}\n",
        "    # Gunakan pure-function, buat list baru yang berisi semua pengeluaran lama dan pengeluaran baru\n",
        "    new_expenses = expenses + [new_expense]\n",
        "    return new_expenses"
      ]
    },
    {
      "cell_type": "code",
      "source": [
        "# TODO 2: Buatlah fungsi calculate_total_expenses menggunakan lambda expression\n",
        "calculate_total_expenses = lambda expenses: sum(expense['jumlah'] for expense in expenses)"
      ],
      "metadata": {
        "id": "QZWdCvEmE5TA"
      },
      "execution_count": 13,
      "outputs": []
    },
    {
      "cell_type": "code",
      "source": [
        "# TODO 3: Buatlah fungsi get_expenses_by_date menggunakan list comprehension\n",
        "def get_expenses_by_date(expenses, date):\n",
        "    return [expense for expense in expenses if expense['tanggal'] == date]"
      ],
      "metadata": {
        "id": "uSRAKWc8E7zJ"
      },
      "execution_count": 14,
      "outputs": []
    },
    {
      "cell_type": "code",
      "source": [
        "# TODO 4: Buatlah fungsi generate_expenses_report sebagai generator\n",
        "def generate_expenses_report(expenses):\n",
        "    for expense in expenses:\n",
        "        yield f\"{expense['tanggal']} - {expense['deskripsi']} - Rp {expense['jumlah']}\""
      ],
      "metadata": {
        "id": "YCyqZ90IE-xQ"
      },
      "execution_count": 15,
      "outputs": []
    },
    {
      "cell_type": "code",
      "source": [
        "def display_menu():\n",
        "    print(\"\\n===== Aplikasi Pencatat Pengeluaran Harian =====\")\n",
        "    print(\"1. Tambah Pengeluaran\")\n",
        "    print(\"2. Total Pengeluaran Harian\")\n",
        "    print(\"3. Lihat Pengeluaran berdasarkan Tanggal\")\n",
        "    print(\"4. Lihat Laporan Pengeluaran Harian\")\n",
        "    print(\"5. Keluar\")\n",
        "\n",
        "def add_expense_interactively(expenses):\n",
        "    date = input(\"Masukkan tanggal pengeluaran (YYYY-MM-DD): \")\n",
        "    description = input(\"Masukkan deskripsi pengeluaran: \")\n",
        "    amount = int(input(\"Masukkan jumlah pengeluaran: \"))\n",
        "    # Panggil fungsi 'add_expense' dengan parameter expenses yang ada\n",
        "    new_expenses = add_expense(expenses, date, description, amount)\n",
        "    print(\"Pengeluaran berhasil ditambahkan.\")\n",
        "    return new_expenses\n",
        "\n",
        "def view_expenses_by_date(expenses):\n",
        "    date = input(\"Masukkan tanggal (YYYY-MM-DD): \")\n",
        "    expenses_on_date = get_expenses_by_date(expenses, date)  # Panggil fungsi 'get_expenses_by_date'\n",
        "    print(f\"\\nPengeluaran pada tanggal {date}:\")\n",
        "    for expense in expenses_on_date:\n",
        "        print(f\"{expense['deskripsi']} - Rp {expense['jumlah']}\")\n",
        "\n",
        "def view_expenses_report(expenses):\n",
        "    print(\"\\nLaporan Pengeluaran Harian:\")\n",
        "    expenses_report = generate_expenses_report(expenses)  # Panggil fungsi 'generate_expenses_report'\n",
        "    for entry in expenses_report:\n",
        "        print(entry)\n",
        "\n",
        "def get_user_input(command):\n",
        "    return int(input(command))\n",
        "\n",
        "def main():\n",
        "    global expenses\n",
        "    while True:\n",
        "        display_menu()\n",
        "        choice = get_user_input(\"Pilih menu (1/2/3/4/5): \")\n",
        "        if choice == 1:\n",
        "            expenses = add_expense_interactively(expenses)\n",
        "        elif choice == 2:\n",
        "            total_expenses = calculate_total_expenses(expenses)\n",
        "            print(f\"\\nTotal Pengeluaran Harian: Rp {total_expenses}\")\n",
        "        elif choice == 3:\n",
        "            view_expenses_by_date(expenses)\n",
        "        elif choice == 4:\n",
        "            view_expenses_report(expenses)\n",
        "        elif choice == 5:\n",
        "            print(\"Terima kasih telah menggunakan aplikasi kami.\")\n",
        "            break\n",
        "        else:\n",
        "            print(\"Pilihan tidak valid. Silahkan pilih menu yang benar.\")\n",
        "\n",
        "if __name__ == \"__main__\":\n",
        "    expenses = []  # Inisialisasi list expenses\n",
        "    main()"
      ],
      "metadata": {
        "id": "88C-uAPpFPmg"
      },
      "execution_count": null,
      "outputs": []
    }
  ]
}