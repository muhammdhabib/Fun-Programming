{
  "nbformat": 4,
  "nbformat_minor": 0,
  "metadata": {
    "colab": {
      "provenance": [],
      "authorship_tag": "ABX9TyMJABNHmpIKCrxFy1r+oyov",
      "include_colab_link": true
    },
    "kernelspec": {
      "name": "python3",
      "display_name": "Python 3"
    },
    "language_info": {
      "name": "python"
    }
  },
  "cells": [
    {
      "cell_type": "markdown",
      "metadata": {
        "id": "view-in-github",
        "colab_type": "text"
      },
      "source": [
        "<a href=\"https://colab.research.google.com/github/muhammdhabib/Fun-Programming/blob/main/Latihan_Modul1.ipynb\" target=\"_parent\"><img src=\"https://colab.research.google.com/assets/colab-badge.svg\" alt=\"Open In Colab\"/></a>"
      ]
    },
    {
      "cell_type": "code",
      "source": [
        "# Latihan Modul 1 - Kegiatan 1\n",
        "\n",
        "# Fungsi untuk pengurangan\n",
        "def minus(a, b):\n",
        "    return a - b\n",
        "\n",
        "# Fungsi untuk perkalian\n",
        "def mult(a, b):\n",
        "    return a * b\n",
        "\n",
        "# Fungsi untuk pembagian\n",
        "def div(a, b):\n",
        "    if type(b) == int and b == 0:\n",
        "        return \"Tidak dapat membagi oleh nol\"\n",
        "    return a / b\n",
        "\n",
        "# Fungsi untuk menghitung hasil\n",
        "def tree(expression_tree):\n",
        "    if type(expression_tree) == tuple:\n",
        "        left, operator, right = expression_tree\n",
        "        if operator == '+':\n",
        "            return tree(left) + tree(right)\n",
        "        elif operator == '-':\n",
        "            return tree(left) - tree(right)\n",
        "        elif operator == '*':\n",
        "            return tree(left) * tree(right)\n",
        "        elif operator == '/':\n",
        "            return tree(left) / tree(right)\n",
        "    else:\n",
        "        return expression_tree\n",
        "\n",
        "# Contoh pohon ekspresi: (2 + 3) * (5 - 1)\n",
        "expression_tree = ((2, '+', 3), '*', (5, '-', 1))\n",
        "\n",
        "# Menghitung hasil ekspresi pohon\n",
        "result = tree(expression_tree)\n",
        "\n",
        "print(\"Hasil evaluasi pohon ekspresi:\", result)\n"
      ],
      "metadata": {
        "id": "ypjQbGL-E-O0"
      },
      "execution_count": null,
      "outputs": []
    },
    {
      "cell_type": "code",
      "execution_count": null,
      "metadata": {
        "id": "50HGj9AB4UoT"
      },
      "outputs": [],
      "source": [
        "# Latihan Modul 1 - Kegiatan 2\n",
        "random_list = [105, 3.1, \"Hello\", 737, \"Python\", 2.7, \"World\", 412, 5.5, \"AI\"]\n",
        "\n",
        "list_float = ()\n",
        "for item in random_list:\n",
        "  if type(item) == float:\n",
        "    list_float = list_float + (item,)\n",
        "\n",
        "list_string = []\n",
        "for item in random_list:\n",
        "  if type(item) == str:\n",
        "    list_string.append(item,)\n",
        "\n",
        "list_dict = {'Satuan' : [], 'Puluhan' : [], 'Ratusan' : []}\n",
        "for item in random_list:\n",
        "    if type(item) == int:\n",
        "        if 0 <= item < 10:\n",
        "            list_dict['Satuan'].append(item)\n",
        "        elif 10 <= item < 100:\n",
        "            list_dict['Puluhan'].append(item)\n",
        "        elif 100 <= item < 1000:\n",
        "            list_dict['Ratusan'].append(item)\n",
        "\n",
        "print(\"Data Float  :\", list_float)\n",
        "print(\"Data String :\", list_string)\n",
        "print(\"Data Satuan :\", list_dict['Satuan'])\n",
        "print(\"Data Satuan :\", list_dict['Puluhan'])\n",
        "print(\"Data Ratusan:\", list_dict['Ratusan'])\n"
      ]
    },
    {
      "cell_type": "code",
      "source": [
        "# Latihan Modul 1 - Kegiatan 3\n",
        "# Sistem Penilaian Akhir Mahasiswa\n",
        "\n",
        "# Tambahkan Fungsi Untuk Menghitung Nilai Akhir\n",
        "def penilaian(uts, uas):\n",
        "    return (uts + uas) / 2\n",
        "\n",
        "# Tambahkan Fungsi Untuk Menghitung Nilai Akhir Semua Mahasiswa\n",
        "def nilai_akhir_semua_mahasiswa(data_mahasiswa):\n",
        "    nilai_akhir = {}\n",
        "    for nama, nilai in data_mahasiswa.items():\n",
        "        nilai_uts, nilai_uas = nilai['uts'], nilai['uas']\n",
        "        nilai_akhir[nama] = penilaian(nilai_uts, nilai_uas)\n",
        "    return nilai_akhir\n",
        "\n",
        "def tampilkan_nilai_akhir(data_nilai_akhir):\n",
        "    print(\"Hasil Nilai Akhir Mahasiswa:\")\n",
        "    for nama, nilai in data_nilai_akhir.items():\n",
        "        print(f\"Nama: {nama}\\tNilai Akhir: {nilai:.2f}\")\n",
        "\n",
        "def main():\n",
        "    data_mahasiswa = {\n",
        "        'Mamat': {'uts': 75, 'uas': 100},\n",
        "        'Wawan': {'uts': 75, 'uas': 75},\n",
        "        'Budi': {'uts': 60, 'uas': 45},\n",
        "    }\n",
        "\n",
        "    data_nilai_akhir = nilai_akhir_semua_mahasiswa(data_mahasiswa)\n",
        "    tampilkan_nilai_akhir(data_nilai_akhir)\n",
        "\n",
        "if __name__ == \"__main__\":\n",
        "    main()"
      ],
      "metadata": {
        "id": "eoP8Sug3KzgN"
      },
      "execution_count": null,
      "outputs": []
    }
  ]
}