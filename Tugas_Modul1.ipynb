{
  "cells": [
    {
      "cell_type": "markdown",
      "metadata": {
        "id": "view-in-github",
        "colab_type": "text"
      },
      "source": [
        "<a href=\"https://colab.research.google.com/github/muhammdhabib/Fun-Programming/blob/main/Tugas_Modul1.ipynb\" target=\"_parent\"><img src=\"https://colab.research.google.com/assets/colab-badge.svg\" alt=\"Open In Colab\"/></a>"
      ]
    },
    {
      "cell_type": "code",
      "execution_count": null,
      "metadata": {
        "colab": {
          "background_save": true,
          "base_uri": "https://localhost:8080/"
        },
        "id": "ru7rH-kDQBJd",
        "outputId": "3b9682bb-e509-4dd5-b084-efbed5b76232"
      },
      "outputs": [
        {
          "name": "stdout",
          "output_type": "stream",
          "text": [
            "\n",
            "Akun Admin:\n",
            "1. Tambah Buku\n",
            "2. Tampilkan List Buku\n",
            "3. Edit Buku\n",
            "4. Keluar\n",
            "Buku 'mamat' oleh mamat telah ditambahkan ke dalam list.\n",
            "\n",
            "Akun Admin:\n",
            "1. Tambah Buku\n",
            "2. Tampilkan List Buku\n",
            "3. Edit Buku\n",
            "4. Keluar\n",
            "\n",
            "Daftar Buku Tersedia:\n",
            "1. mamat oleh mamat (tersedia)\n",
            "\n",
            "Akun Admin:\n",
            "1. Tambah Buku\n",
            "2. Tampilkan List Buku\n",
            "3. Edit Buku\n",
            "4. Keluar\n",
            "\n",
            "Daftar Buku Tersedia:\n",
            "1. mamat oleh mamat (tersedia)\n",
            "Buku telah diubah menjadi 'memet' oleh memet.\n",
            "\n",
            "Akun Admin:\n",
            "1. Tambah Buku\n",
            "2. Tampilkan List Buku\n",
            "3. Edit Buku\n",
            "4. Keluar\n",
            "\n",
            "Daftar Buku Tersedia:\n",
            "1. memet oleh memet (tersedia)\n",
            "\n",
            "Akun Admin:\n",
            "1. Tambah Buku\n",
            "2. Tampilkan List Buku\n",
            "3. Edit Buku\n",
            "4. Keluar\n"
          ]
        }
      ],
      "source": [
        "list_buku = []\n",
        "\n",
        "def input_buku():\n",
        "    judul = input(\"Judul buku: \")\n",
        "    pengarang = input(\"Nama pengarang: \")\n",
        "    buku = {'judul': judul, 'pengarang': pengarang, 'status': 'tersedia'}\n",
        "    list_buku.append(buku)\n",
        "    print(\"Buku '\" + judul + \"' oleh \" + pengarang + \" telah ditambahkan ke dalam list.\")\n",
        "\n",
        "def tampilkan_list_buku():\n",
        "    print(\"\\nDaftar Buku Tersedia:\")\n",
        "    for idx, buku in enumerate(list_buku):\n",
        "        if buku['status'] == 'tersedia':\n",
        "            print(str(idx+1) + \". \" + buku['judul'] + \" oleh \" + buku['pengarang'] + \" (\" + buku['status'] + \")\")\n",
        "\n",
        "def edit_buku():\n",
        "    tampilkan_list_buku()\n",
        "    idx = int(input(\"Masukkan nomor buku yang ingin diedit: \")) - 1\n",
        "    if idx >= 0 and idx < len(list_buku):\n",
        "        judul = input(\"Masukkan judul buku yang baru: \")\n",
        "        pengarang = input(\"Masukkan nama pengarang yang baru: \")\n",
        "        list_buku[idx]['judul'] = judul\n",
        "        list_buku[idx]['pengarang'] = pengarang\n",
        "        print(\"Buku telah diubah menjadi '\" + judul + \"' oleh \" + pengarang + \".\")\n",
        "    else:\n",
        "        print(\"Nomor buku tidak valid.\")\n",
        "\n",
        "while True:\n",
        "    print(\"\\nAkun Admin:\")\n",
        "    print(\"1. Tambah Buku\")\n",
        "    print(\"2. Tampilkan List Buku\")\n",
        "    print(\"3. Edit Buku\")\n",
        "    print(\"4. Keluar\")\n",
        "    pilihan = input(\"Pilih: \")\n",
        "\n",
        "    if pilihan == '1':\n",
        "        input_buku()\n",
        "    elif pilihan == '2':\n",
        "        tampilkan_list_buku()\n",
        "    elif pilihan == '3':\n",
        "        edit_buku()\n",
        "    elif pilihan == '4':\n",
        "        break\n",
        "    else:\n",
        "        print(\"Pilihan tidak valid.\")\n"
      ]
    },
    {
      "cell_type": "code",
      "execution_count": null,
      "metadata": {
        "id": "h7WlSnCPWkpH"
      },
      "outputs": [],
      "source": [
        "def pinjam_buku(list_buku):\n",
        "    nim = input(\"Masukkan NIM Anda: \")\n",
        "    nama = input(\"Masukkan Nama Anda: \")\n",
        "    judul = input(\"Masukkan judul buku yang ingin dipinjam: \")\n",
        "\n",
        "    for buku in list_buku:\n",
        "        if buku['judul'] == judul and buku['status'] == 'tersedia':\n",
        "            buku['status'] = 'dipinjam oleh ' + nim + ' - ' + nama\n",
        "            print(nama + ' dengan NIM ' + nim + ' telah meminjam buku \\'' + judul + '\\'.')\n",
        "            return\n",
        "\n",
        "    print('Buku \\'' + judul + '\\' tidak tersedia atau sudah dipinjam oleh pengguna lain.')\n",
        "\n",
        "def kembalikan_buku(list_buku):\n",
        "    nim = input(\"Masukkan NIM Anda: \")\n",
        "    nama = input(\"Masukkan Nama Anda: \")\n",
        "    judul = input(\"Masukkan judul buku yang ingin dikembalikan: \")\n",
        "\n",
        "    for buku in list_buku:\n",
        "        if buku['judul'] == judul and buku['status'].startswith('dipinjam oleh ' + nim + ' - ' + nama):\n",
        "            buku['status'] = 'tersedia'\n",
        "            print(nama + ' dengan NIM ' + nim + ' telah mengembalikan buku \\'' + judul + '\\'.')\n",
        "            return\n",
        "\n",
        "    print('Buku \\'' + judul + '\\' tidak dapat dikembalikan oleh ' + nama + ' dengan NIM ' + nim + '.')\n",
        "\n",
        "def tampilkan_list_buku(list_buku):\n",
        "    print(\"\\nDaftar Buku Tersedia:\")\n",
        "    for buku in list_buku:\n",
        "        if buku['status'] == 'tersedia':\n",
        "            print(buku['judul'] + ' oleh ' + buku['pengarang'] + ' (' + buku['status'] + ')')\n",
        "\n",
        "while True:\n",
        "    tampilkan_list_buku(list_buku)\n",
        "    print(\"\\nMenu User:\")\n",
        "    print(\"1. Pinjam Buku\")\n",
        "    print(\"2. Kembalikan Buku\")\n",
        "    print(\"3. Keluar\")\n",
        "    pilihan = input(\"Pilih menu: \")\n",
        "\n",
        "    if pilihan == '1':\n",
        "        pinjam_buku(list_buku)\n",
        "    elif pilihan == '2':\n",
        "        kembalikan_buku(list_buku)\n",
        "    elif pilihan == '3':\n",
        "        break\n",
        "    else:\n",
        "        print(\"Pilihan tidak valid.\")\n"
      ]
    }
  ],
  "metadata": {
    "colab": {
      "provenance": [],
      "authorship_tag": "ABX9TyOZI0IRO012w1VTGK3B/WZT",
      "include_colab_link": true
    },
    "kernelspec": {
      "display_name": "Python 3",
      "name": "python3"
    },
    "language_info": {
      "name": "python"
    }
  },
  "nbformat": 4,
  "nbformat_minor": 0
}